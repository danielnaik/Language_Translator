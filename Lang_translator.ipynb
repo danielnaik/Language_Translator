{
 "cells": [
  {
   "cell_type": "code",
   "execution_count": 1,
   "id": "a920eebc",
   "metadata": {},
   "outputs": [
    {
     "name": "stdout",
     "output_type": "stream",
     "text": [
      "Requirement already satisfied: googletrans in c:\\users\\samsung\\anaconda3\\lib\\site-packages (4.0.0rc1)\n",
      "Requirement already satisfied: httpx==0.13.3 in c:\\users\\samsung\\anaconda3\\lib\\site-packages (from googletrans) (0.13.3)\n",
      "Requirement already satisfied: certifi in c:\\users\\samsung\\anaconda3\\lib\\site-packages (from httpx==0.13.3->googletrans) (2022.9.14)\n",
      "Requirement already satisfied: hstspreload in c:\\users\\samsung\\anaconda3\\lib\\site-packages (from httpx==0.13.3->googletrans) (2024.6.1)\n",
      "Requirement already satisfied: sniffio in c:\\users\\samsung\\anaconda3\\lib\\site-packages (from httpx==0.13.3->googletrans) (1.2.0)\n",
      "Requirement already satisfied: chardet==3.* in c:\\users\\samsung\\anaconda3\\lib\\site-packages (from httpx==0.13.3->googletrans) (3.0.4)\n",
      "Requirement already satisfied: idna==2.* in c:\\users\\samsung\\anaconda3\\lib\\site-packages (from httpx==0.13.3->googletrans) (2.10)\n",
      "Requirement already satisfied: rfc3986<2,>=1.3 in c:\\users\\samsung\\anaconda3\\lib\\site-packages (from httpx==0.13.3->googletrans) (1.5.0)\n",
      "Requirement already satisfied: httpcore==0.9.* in c:\\users\\samsung\\anaconda3\\lib\\site-packages (from httpx==0.13.3->googletrans) (0.9.1)\n",
      "Requirement already satisfied: h11<0.10,>=0.8 in c:\\users\\samsung\\anaconda3\\lib\\site-packages (from httpcore==0.9.*->httpx==0.13.3->googletrans) (0.9.0)\n",
      "Requirement already satisfied: h2==3.* in c:\\users\\samsung\\anaconda3\\lib\\site-packages (from httpcore==0.9.*->httpx==0.13.3->googletrans) (3.2.0)\n",
      "Requirement already satisfied: hyperframe<6,>=5.2.0 in c:\\users\\samsung\\anaconda3\\lib\\site-packages (from h2==3.*->httpcore==0.9.*->httpx==0.13.3->googletrans) (5.2.0)\n",
      "Requirement already satisfied: hpack<4,>=3.0 in c:\\users\\samsung\\anaconda3\\lib\\site-packages (from h2==3.*->httpcore==0.9.*->httpx==0.13.3->googletrans) (3.0.0)\n",
      "Note: you may need to restart the kernel to use updated packages.\n"
     ]
    }
   ],
   "source": [
    "pip install googletrans"
   ]
  },
  {
   "cell_type": "code",
   "execution_count": 2,
   "id": "3ac8da0f",
   "metadata": {},
   "outputs": [
    {
     "name": "stdout",
     "output_type": "stream",
     "text": [
      "{'af': 'afrikaans', 'sq': 'albanian', 'am': 'amharic', 'ar': 'arabic', 'hy': 'armenian', 'az': 'azerbaijani', 'eu': 'basque', 'be': 'belarusian', 'bn': 'bengali', 'bs': 'bosnian', 'bg': 'bulgarian', 'ca': 'catalan', 'ceb': 'cebuano', 'ny': 'chichewa', 'zh-cn': 'chinese (simplified)', 'zh-tw': 'chinese (traditional)', 'co': 'corsican', 'hr': 'croatian', 'cs': 'czech', 'da': 'danish', 'nl': 'dutch', 'en': 'english', 'eo': 'esperanto', 'et': 'estonian', 'tl': 'filipino', 'fi': 'finnish', 'fr': 'french', 'fy': 'frisian', 'gl': 'galician', 'ka': 'georgian', 'de': 'german', 'el': 'greek', 'gu': 'gujarati', 'ht': 'haitian creole', 'ha': 'hausa', 'haw': 'hawaiian', 'iw': 'hebrew', 'he': 'hebrew', 'hi': 'hindi', 'hmn': 'hmong', 'hu': 'hungarian', 'is': 'icelandic', 'ig': 'igbo', 'id': 'indonesian', 'ga': 'irish', 'it': 'italian', 'ja': 'japanese', 'jw': 'javanese', 'kn': 'kannada', 'kk': 'kazakh', 'km': 'khmer', 'ko': 'korean', 'ku': 'kurdish (kurmanji)', 'ky': 'kyrgyz', 'lo': 'lao', 'la': 'latin', 'lv': 'latvian', 'lt': 'lithuanian', 'lb': 'luxembourgish', 'mk': 'macedonian', 'mg': 'malagasy', 'ms': 'malay', 'ml': 'malayalam', 'mt': 'maltese', 'mi': 'maori', 'mr': 'marathi', 'mn': 'mongolian', 'my': 'myanmar (burmese)', 'ne': 'nepali', 'no': 'norwegian', 'or': 'odia', 'ps': 'pashto', 'fa': 'persian', 'pl': 'polish', 'pt': 'portuguese', 'pa': 'punjabi', 'ro': 'romanian', 'ru': 'russian', 'sm': 'samoan', 'gd': 'scots gaelic', 'sr': 'serbian', 'st': 'sesotho', 'sn': 'shona', 'sd': 'sindhi', 'si': 'sinhala', 'sk': 'slovak', 'sl': 'slovenian', 'so': 'somali', 'es': 'spanish', 'su': 'sundanese', 'sw': 'swahili', 'sv': 'swedish', 'tg': 'tajik', 'ta': 'tamil', 'te': 'telugu', 'th': 'thai', 'tr': 'turkish', 'uk': 'ukrainian', 'ur': 'urdu', 'ug': 'uyghur', 'uz': 'uzbek', 'vi': 'vietnamese', 'cy': 'welsh', 'xh': 'xhosa', 'yi': 'yiddish', 'yo': 'yoruba', 'zu': 'zulu'}\n"
     ]
    }
   ],
   "source": [
    "import googletrans\n",
    " \n",
    " \n",
    "\n",
    "print(googletrans.LANGUAGES)"
   ]
  },
  {
   "cell_type": "code",
   "execution_count": null,
   "id": "6e5b86b3",
   "metadata": {},
   "outputs": [
    {
     "name": "stdout",
     "output_type": "stream",
     "text": [
      "Speak 'hello' to initiate the Translation!\n",
      "~~~~~~~~~~~~~~~~~~~~~~~~~~~~~~~~~~~~~~~~~~~~\n",
      "Could not request results from Google Speech Recognition service; recognition connection failed: [Errno 11001] getaddrinfo failed\n",
      "The initial 'hello' was not detected.\n",
      "Speak 'hello' to initiate the Translation!\n",
      "~~~~~~~~~~~~~~~~~~~~~~~~~~~~~~~~~~~~~~~~~~~~\n",
      "Could not request results from Google Speech Recognition service; recognition connection failed: [Errno 11001] getaddrinfo failed\n",
      "The initial 'hello' was not detected.\n",
      "Speak 'hello' to initiate the Translation!\n",
      "~~~~~~~~~~~~~~~~~~~~~~~~~~~~~~~~~~~~~~~~~~~~\n",
      "Speak a sentence to be translated...\n",
      "Phrase to be Translated: ela unnaru\n"
     ]
    }
   ],
   "source": [
    "import speech_recognition as spr\n",
    "from googletrans import Translator\n",
    "from gtts import gTTS\n",
    "import os\n",
    "import tkinter as tk\n",
    "from tkinter import ttk, messagebox\n",
    "\n",
    "def listen_and_recognize(recognizer, microphone):\n",
    "    with microphone as source:\n",
    "        recognizer.adjust_for_ambient_noise(source, duration=0.2)\n",
    "        audio = recognizer.listen(source)\n",
    "    try:\n",
    "        return recognizer.recognize_google(audio).lower()\n",
    "    except spr.UnknownValueError:\n",
    "        print(\"Google Speech Recognition could not understand the audio\")\n",
    "        return None\n",
    "    except spr.RequestError as e:\n",
    "        print(f\"Could not request results from Google Speech Recognition service; {e}\")\n",
    "        return None\n",
    "\n",
    "def start_translation():\n",
    "    recog1 = spr.Recognizer()\n",
    "    mc = spr.Microphone()\n",
    "\n",
    "    print(\"Speak 'hello' to initiate the Translation!\")\n",
    "    print(\"~~~~~~~~~~~~~~~~~~~~~~~~~~~~~~~~~~~~~~~~~~~~\")\n",
    "\n",
    "    MyText = listen_and_recognize(recog1, mc)\n",
    "    if MyText and 'hello' in MyText:\n",
    "        from_lang = source_lang_var.get()\n",
    "        to_lang = target_lang_var.get()\n",
    "\n",
    "        print(\"Speak a sentence to be translated...\")\n",
    "        get_sentence = listen_and_recognize(recog1, mc)\n",
    "\n",
    "        if get_sentence:\n",
    "            try:\n",
    "                print(\"Phrase to be Translated: \" + get_sentence)\n",
    "\n",
    "                # Translate the sentence\n",
    "                translator = Translator()\n",
    "                text_to_translate = translator.translate(get_sentence, src=from_lang, dest=to_lang)\n",
    "                text = text_to_translate.text\n",
    "\n",
    "                # Convert the translated text to speech\n",
    "                speak = gTTS(text=text, lang=to_lang, slow=False)\n",
    "                speak.save(\"captured_voice.mp3\")\n",
    "\n",
    "                # Play the translated speech\n",
    "                os.system(\"start captured_voice.mp3\")\n",
    "\n",
    "            except spr.UnknownValueError:\n",
    "                print(\"Unable to understand the input\")\n",
    "            except spr.RequestError as e:\n",
    "                print(f\"Unable to provide the required output; {e}\")\n",
    "        else:\n",
    "            print(\"No sentence to translate.\")\n",
    "    else:\n",
    "        print(\"The initial 'hello' was not detected.\")\n",
    "\n",
    "def create_gui():\n",
    "    root = tk.Tk()\n",
    "    root.title(\"Speech Translator\")\n",
    "\n",
    "    mainframe = ttk.Frame(root, padding=\"10 10 20 20\")\n",
    "    mainframe.grid(column=0, row=0, sticky=(tk.W, tk.E, tk.N, tk.S))\n",
    "\n",
    "    ttk.Label(mainframe, text=\"Select Source Language:\").grid(column=1, row=1, sticky=tk.W)\n",
    "    ttk.Label(mainframe, text=\"Select Target Language:\").grid(column=1, row=2, sticky=tk.W)\n",
    "\n",
    "    source_lang_menu = ttk.OptionMenu(mainframe, source_lang_var, 'en', 'en', 'es', 'fr', 'de', 'te', 'ta')\n",
    "    target_lang_menu = ttk.OptionMenu(mainframe, target_lang_var, 'te', 'en', 'es', 'fr', 'de', 'te', 'ta')\n",
    "\n",
    "    source_lang_menu.grid(column=2, row=1, sticky=(tk.W, tk.E))\n",
    "    target_lang_menu.grid(column=2, row=2, sticky=(tk.W, tk.E))\n",
    "\n",
    "    start_button = ttk.Button(mainframe, text=\"Start Translation\", command=start_translation)\n",
    "    start_button.grid(column=2, row=3, sticky=tk.E)\n",
    "\n",
    "    for child in mainframe.winfo_children():\n",
    "        child.grid_configure(padx=5, pady=5)\n",
    "\n",
    "    root.mainloop()\n",
    "\n",
    "if __name__ == \"__main__\":\n",
    "    root = tk.Tk()\n",
    "    source_lang_var = tk.StringVar(root)\n",
    "    target_lang_var = tk.StringVar(root)\n",
    "    root.destroy()  # Destroy the root window after initializing StringVar\n",
    "\n",
    "    create_gui()\n"
   ]
  },
  {
   "cell_type": "code",
   "execution_count": null,
   "id": "3975e6cb",
   "metadata": {},
   "outputs": [],
   "source": []
  }
 ],
 "metadata": {
  "kernelspec": {
   "display_name": "Python 3 (ipykernel)",
   "language": "python",
   "name": "python3"
  },
  "language_info": {
   "codemirror_mode": {
    "name": "ipython",
    "version": 3
   },
   "file_extension": ".py",
   "mimetype": "text/x-python",
   "name": "python",
   "nbconvert_exporter": "python",
   "pygments_lexer": "ipython3",
   "version": "3.9.13"
  }
 },
 "nbformat": 4,
 "nbformat_minor": 5
}
